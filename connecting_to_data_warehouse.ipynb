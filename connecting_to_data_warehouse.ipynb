{
 "cells": [
  {
   "cell_type": "code",
   "execution_count": 2,
   "metadata": {},
   "outputs": [
    {
     "name": "stdout",
     "output_type": "stream",
     "text": [
      "hello world\n"
     ]
    }
   ],
   "source": [
    "print('hello world')\n"
   ]
  },
  {
   "cell_type": "code",
   "execution_count": 24,
   "metadata": {},
   "outputs": [
    {
     "name": "stdout",
     "output_type": "stream",
     "text": [
      "Number of rows: 1562\n",
      "                                     id  \\\n",
      "0  00645a1f-a100-43f8-99d9-b5781e833847   \n",
      "1  01a358a6-9300-40dd-bd79-27f831fd13b5   \n",
      "2  01e63f75-7141-474b-bc9c-55f919d53c11   \n",
      "3  020edf29-df1f-4241-a3a5-c0d64ab0f712   \n",
      "4  03591caa-0041-4c96-9243-da8ebf0160c9   \n",
      "\n",
      "                                                meta implicitRules language  \\\n",
      "0  {\"versionId\":\"1\",\"lastUpdated\":\"2024-03-14T20:...          None     None   \n",
      "1  {\"versionId\":\"1\",\"lastUpdated\":\"2024-03-14T20:...          None     None   \n",
      "2  {\"versionId\":\"1\",\"lastUpdated\":\"2024-03-14T20:...          None     None   \n",
      "3  {\"versionId\":\"1\",\"lastUpdated\":\"2024-03-14T20:...          None     None   \n",
      "4  {\"versionId\":\"1\",\"lastUpdated\":\"2024-03-14T20:...          None     None   \n",
      "\n",
      "   text contained identifier active  name telecom  ... deceased address  \\\n",
      "0  None      None       None   None  None    None  ...     None    None   \n",
      "1  None      None       None   None  None    None  ...     None    None   \n",
      "2  None      None       None   None  None    None  ...     None    None   \n",
      "3  None      None       None   None  None    None  ...     None    None   \n",
      "4  None      None       None   None  None    None  ...     None    None   \n",
      "\n",
      "  maritalStatus multipleBirth photo contact communication generalPractitioner  \\\n",
      "0          None          None  None    None          None                None   \n",
      "1          None          None  None    None          None                None   \n",
      "2          None          None  None    None          None                None   \n",
      "3          None          None  None    None          None                None   \n",
      "4          None          None  None    None          None                None   \n",
      "\n",
      "                                managingOrganization  link  \n",
      "0  {\"organizationId\":\"ZW000A10\",\"id\":null,\"refere...  None  \n",
      "1  {\"organizationId\":\"ZW000A10\",\"id\":null,\"refere...  None  \n",
      "2  {\"organizationId\":\"ZW000A10\",\"id\":null,\"refere...  None  \n",
      "3  {\"organizationId\":\"ZW000A10\",\"id\":null,\"refere...  None  \n",
      "4  {\"organizationId\":\"ZW000A10\",\"id\":null,\"refere...  None  \n",
      "\n",
      "[5 rows x 22 columns]\n"
     ]
    }
   ],
   "source": [
    "import pandas as pd\n",
    "from pyhive import hive\n",
    "\n",
    "\n",
    "host = '197.221.242.150'\n",
    "port = 10348\n",
    "database = 'default'\n",
    "\n",
    "\n",
    "conn = hive.Connection(host=host, port=port, database=database)\n",
    "\n",
    "\n",
    "cursor = conn.cursor()\n",
    "\n",
    "\n",
    "query = \"SELECT * from patient\"\n",
    "cursor.execute(query)\n",
    "column_names = [desc[0] for desc in cursor.description]\n",
    "\n",
    "# Create the DataFrame with column names\n",
    "\n",
    "\n",
    "df = pd.DataFrame(cursor.fetchall(), columns=column_names)\n",
    "\n",
    "num_rows = len(df)\n",
    "print(\"Number of rows:\", num_rows)\n",
    "print(df.head())\n",
    "\n",
    "\n",
    "\n",
    "\n",
    "cursor.close()\n",
    "conn.close()"
   ]
  }
 ],
 "metadata": {
  "kernelspec": {
   "display_name": "Python 3",
   "language": "python",
   "name": "python3"
  },
  "language_info": {
   "codemirror_mode": {
    "name": "ipython",
    "version": 3
   },
   "file_extension": ".py",
   "mimetype": "text/x-python",
   "name": "python",
   "nbconvert_exporter": "python",
   "pygments_lexer": "ipython3",
   "version": "3.8.10"
  }
 },
 "nbformat": 4,
 "nbformat_minor": 2
}
